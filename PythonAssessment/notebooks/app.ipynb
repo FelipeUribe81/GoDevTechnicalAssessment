{
 "cells": [
  {
   "cell_type": "code",
   "execution_count": 394,
   "metadata": {},
   "outputs": [],
   "source": [
    "parking = []\n",
    "FREE_SLOT = \"_\"\n",
    "BUSSY_SLOT = \"x\"\n",
    "car_directtion = {0: \">\", 90: \"^\", 180: \"<\", 270: \"v\"}\n",
    "\n",
    "#Future class\n",
    "car_initial_position = [3, 2]\n",
    "car_initial_direcction = 0\n",
    "car_position = []\n",
    "parking_size = 4"
   ]
  },
  {
   "cell_type": "code",
   "execution_count": 395,
   "metadata": {},
   "outputs": [],
   "source": [
    "class CarInParking:\n",
    "\n",
    "    def __init__(self):\n",
    "        self.car_position = [0, 0]\n",
    "        self.car_direcction = 0\n",
    "        self.spaces_visited = 0\n",
    "\n",
    "    def generate_parking(self, parking_size: int, car_initial_position: list, car_initial_direcction: int):\n",
    "        for i in range(parking_size):\n",
    "            parking_row = []\n",
    "            for j in range(parking_size):\n",
    "                if i == car_initial_position[0] and j == car_initial_position[1]:\n",
    "                    parking_row.append(car_directtion[car_initial_direcction])\n",
    "                    self.car_position = car_initial_position\n",
    "                    self.car_direcction = car_initial_direcction\n",
    "                    continue\n",
    "                parking_row.append(FREE_SLOT)\n",
    "            parking.append(parking_row)\n",
    "\n",
    "    def move_forward(self):\n",
    "        if self.car_direcction == 0:\n",
    "            \n",
    "            if self.car_position[1] + 1 == parking_size:\n",
    "                return\n",
    "\n",
    "            parking[self.car_position[0]][self.car_position[1] + 1] = car_directtion[self.car_direcction]\n",
    "            self.spaces_visited += 1\n",
    "            if self.spaces_visited % 2 == 0:\n",
    "                parking[self.car_position[0]][self.car_position[1]] = BUSSY_SLOT\n",
    "            else:\n",
    "                parking[self.car_position[0]][self.car_position[1]] = FREE_SLOT\n",
    "            self.car_position[0] = self.car_position[0]\n",
    "            self.car_position[1] = self.car_position[1] + 1\n",
    "\n",
    "        elif self.car_direcction == 90:\n",
    "\n",
    "            if self.car_position[0] - 1 < 0:\n",
    "                return\n",
    "\n",
    "            parking[self.car_position[0] - 1][self.car_position[1]] = car_directtion[self.car_direcction]\n",
    "            self.spaces_visited += 1\n",
    "            if self.spaces_visited % 2 == 0:\n",
    "                parking[self.car_position[0]][self.car_position[1]] = BUSSY_SLOT\n",
    "            else:\n",
    "                parking[self.car_position[0]][self.car_position[1]] = FREE_SLOT\n",
    "            self.car_position[0] = self.car_position[0] - 1\n",
    "            self.car_position[1] = self.car_position[1]\n",
    "        \n",
    "        elif self.car_direcction == 180:\n",
    "\n",
    "            if self.car_position[1] - 1 < 0:\n",
    "                return\n",
    "\n",
    "            parking[self.car_position[0]][self.car_position[1] - 1] = car_directtion[self.car_direcction]\n",
    "            self.spaces_visited += 1\n",
    "            if self.spaces_visited % 2 == 0:\n",
    "                parking[self.car_position[0]][self.car_position[1]] = BUSSY_SLOT\n",
    "            else:\n",
    "                parking[self.car_position[0]][self.car_position[1]] = FREE_SLOT\n",
    "            self.car_position[0] = self.car_position[0]\n",
    "            self.car_position[1] = self.car_position[1] - 1\n",
    "        \n",
    "        elif self.car_direcction == 270:\n",
    "\n",
    "            if self.car_position[0] + 1 == parking_size:\n",
    "                return\n",
    "\n",
    "            parking[self.car_position[0] + 1][self.car_position[1]] = car_directtion[self.car_direcction]\n",
    "            self.spaces_visited += 1\n",
    "            if self.spaces_visited % 2 == 0:\n",
    "                parking[self.car_position[0]][self.car_position[1]] = BUSSY_SLOT\n",
    "            else:\n",
    "                parking[self.car_position[0]][self.car_position[1]] = FREE_SLOT\n",
    "            self.car_position[0] = self.car_position[0] + 1\n",
    "            self.car_position[1] = self.car_position[1]\n",
    "\n",
    "    def turn_car(self):\n",
    "        if self.car_direcction == 0:\n",
    "            \n",
    "            if self.car_position[1] - 1 < 0:\n",
    "                return\n",
    "            \n",
    "            space_behind = parking[self.car_position[1]][self.car_position[1] - 1]\n",
    "            if space_behind == FREE_SLOT:\n",
    "                self.car_direcction = (self.car_direcction + 90) % 360\n",
    "            elif space_behind == BUSSY_SLOT:\n",
    "                self.car_direcction = (self.car_direcction - 90) % 360\n",
    "            parking[self.car_position[0]][self.car_position[1]] = car_directtion[self.car_direcction]\n",
    "\n",
    "        elif self.car_direcction == 90:\n",
    "\n",
    "            if self.car_position[0] + 1 == parking_size:\n",
    "                return\n",
    "\n",
    "            space_behind = parking[self.car_position[0] + 1][self.car_position[1]]\n",
    "            if space_behind == FREE_SLOT:\n",
    "                self.car_direcction = (self.car_direcction + 90) % 360\n",
    "            elif space_behind == BUSSY_SLOT:\n",
    "                self.car_direcction = (self.car_direcction - 90) % 360\n",
    "            parking[self.car_position[0]][self.car_position[1]] = car_directtion[self.car_direcction]\n",
    "\n",
    "        elif self.car_direcction == 180:\n",
    "\n",
    "            if self.car_position[1] + 1 == parking_size:\n",
    "                return\n",
    "\n",
    "            space_behind = parking[self.car_position[0]][self.car_position[1] + 1]\n",
    "            if space_behind == FREE_SLOT:\n",
    "                self.car_direcction = (self.car_direcction + 90) % 360\n",
    "            elif space_behind == BUSSY_SLOT:\n",
    "                self.car_direcction = (self.car_direcction - 90) % 360\n",
    "            parking[self.car_position[0]][self.car_position[1]] = car_directtion[self.car_direcction]\n",
    "        \n",
    "        elif self.car_direcction == 270:\n",
    "\n",
    "            if self.car_position[0] - 1 < 0:\n",
    "                return\n",
    "\n",
    "            space_behind = parking[self.car_position[0] - 1][self.car_position[1]]\n",
    "            if space_behind == FREE_SLOT:\n",
    "                self.car_direcction = (self.car_direcction + 90) % 360\n",
    "            elif space_behind == BUSSY_SLOT:\n",
    "                self.car_direcction = (self.car_direcction - 90) % 360\n",
    "            parking[self.car_position[0]][self.car_position[1]] = car_directtion[self.car_direcction]\n"
   ]
  },
  {
   "cell_type": "code",
   "execution_count": 301,
   "metadata": {},
   "outputs": [
    {
     "data": {
      "text/plain": [
       "0"
      ]
     },
     "execution_count": 301,
     "metadata": {},
     "output_type": "execute_result"
    }
   ],
   "source": [
    "(360 + 90) % 360\n",
    "(0 - 90) % 360\n",
    "360 % 360"
   ]
  },
  {
   "cell_type": "code",
   "execution_count": 361,
   "metadata": {},
   "outputs": [],
   "source": [
    "def print_parking():\n",
    "    for parking_row in parking:\n",
    "        print(parking_row)"
   ]
  },
  {
   "cell_type": "code",
   "execution_count": 396,
   "metadata": {},
   "outputs": [],
   "source": [
    "parking = []\n",
    "car_in_parking = CarInParking()\n",
    "car_in_parking.generate_parking(4, car_initial_position, car_initial_direcction)"
   ]
  },
  {
   "cell_type": "code",
   "execution_count": 263,
   "metadata": {},
   "outputs": [],
   "source": [
    "car_in_parking.move_forward()"
   ]
  },
  {
   "cell_type": "code",
   "execution_count": 340,
   "metadata": {},
   "outputs": [
    {
     "name": "stdout",
     "output_type": "stream",
     "text": [
      "['_', '_', '_', '_']\n",
      "['_', '_', '>', '_']\n",
      "['_', '_', '_', '_']\n",
      "['_', '_', '_', '_']\n"
     ]
    }
   ],
   "source": [
    "car_in_parking.turn_car()\n",
    "car_in_parking.move_forward()\n",
    "print_parking()"
   ]
  },
  {
   "cell_type": "code",
   "execution_count": 402,
   "metadata": {},
   "outputs": [
    {
     "name": "stdout",
     "output_type": "stream",
     "text": [
      "['^', '_', '_', '_']\n",
      "['_', 'x', '_', '_']\n",
      "['_', '_', 'x', '_']\n",
      "['_', '_', '_', '_']\n"
     ]
    }
   ],
   "source": [
    "car_in_parking.turn_car()\n",
    "car_in_parking.move_forward()\n",
    "print_parking()"
   ]
  },
  {
   "cell_type": "code",
   "execution_count": 397,
   "metadata": {},
   "outputs": [
    {
     "name": "stdout",
     "output_type": "stream",
     "text": [
      "['_', '_', '_', '_']\n",
      "['_', '_', '_', '_']\n",
      "['_', '_', '_', '_']\n",
      "['_', '_', '>', '_']\n",
      "0\n"
     ]
    }
   ],
   "source": [
    "print_parking()\n",
    "print(car_in_parking.car_direcction)"
   ]
  },
  {
   "cell_type": "code",
   "execution_count": 406,
   "metadata": {},
   "outputs": [
    {
     "data": {
      "text/plain": [
       "0"
      ]
     },
     "execution_count": 406,
     "metadata": {},
     "output_type": "execute_result"
    }
   ],
   "source": [
    "0 % 4"
   ]
  }
 ],
 "metadata": {
  "kernelspec": {
   "display_name": "Python 3",
   "language": "python",
   "name": "python3"
  },
  "language_info": {
   "codemirror_mode": {
    "name": "ipython",
    "version": 3
   },
   "file_extension": ".py",
   "mimetype": "text/x-python",
   "name": "python",
   "nbconvert_exporter": "python",
   "pygments_lexer": "ipython3",
   "version": "3.12.2"
  }
 },
 "nbformat": 4,
 "nbformat_minor": 2
}
